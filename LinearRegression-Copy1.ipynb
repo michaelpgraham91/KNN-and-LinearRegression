{
 "cells": [
  {
   "cell_type": "code",
   "execution_count": 95,
   "metadata": {
    "scrolled": true
   },
   "outputs": [],
   "source": [
    "import pandas as pd\n",
    "import numpy as np\n",
    "import matplotlib.pyplot as plt\n",
    "import statsmodels.api as sm\n",
    "import cmath as math\n",
    "import random\n",
    "from sklearn.linear_model import LinearRegression\n",
    "from sklearn import metrics\n",
    "from sklearn import linear_model\n",
    "pd.set_option('max_rows', 500)\n",
    "%matplotlib inline\n",
    "\n",
    "cols = ['mpg', 'cylinders', 'displacement', 'horsepower', 'weight', 'acceleration']\n",
    "yCols = 'mpg'\n",
    "xCols = ['cylinders', 'displacement', 'horsepower', 'weight', 'acceleration']\n",
    "# In order for the import statement to work correctly, the last three rows of the training set (the ones\n",
    "# with \"?\" instead of mpg, must be removed from the text file\n",
    "data = pd.DataFrame(pd.read_csv('linear_regression_data.txt', header=None, names=cols, delim_whitespace=True))\n",
    "\n",
    "samples = pd.DataFrame({\n",
    "    'cylinders': [4, 6, 4],\n",
    "    'displacement': [95, 168, 98],\n",
    "    'horsepower': [92, 96, 68],\n",
    "    'weight': [2043, 2981, 2147],\n",
    "    'acceleration': [19.1, 14.7, 18.3]\n",
    "})\n",
    "    \n",
    "\n",
    "dataMin = data - data.min()\n",
    "nData = dataMin / dataMin.max()\n",
    "sData = (data - data.mean()) / data.std()\n",
    "sSam = (samples - data[xCols].mean())/ data[xCols].std()\n",
    "\n",
    "y = sData[yCols]\n",
    "X = sData[xCols]\n",
    "\n",
    "ones = np.ones([X.shape[0],1])\n",
    "X = np.concatenate((ones,X), axis=1)\n",
    "\n",
    "theta = np.zeros([1,6])"
   ]
  },
  {
   "cell_type": "code",
   "execution_count": 78,
   "metadata": {
    "scrolled": true
   },
   "outputs": [
    {
     "data": {
      "text/plain": [
       "LinearRegression(copy_X=True, fit_intercept=True, n_jobs=1, normalize=False)"
      ]
     },
     "execution_count": 78,
     "metadata": {},
     "output_type": "execute_result"
    }
   ],
   "source": [
    "reg = linear_model.LinearRegression()\n",
    "reg.fit(sData[['cylinders', 'displacement', 'horsepower', 'weight', 'acceleration']], data[['mpg']])"
   ]
  },
  {
   "cell_type": "code",
   "execution_count": 62,
   "metadata": {},
   "outputs": [
    {
     "data": {
      "text/plain": [
       "array([ 0.        , -0.08243141, -0.00215268, -0.23447457, -0.56063785,\n",
       "       -0.01761363])"
      ]
     },
     "execution_count": 62,
     "metadata": {},
     "output_type": "execute_result"
    }
   ],
   "source": [
    "reg.coef_"
   ]
  },
  {
   "cell_type": "code",
   "execution_count": 63,
   "metadata": {},
   "outputs": [
    {
     "data": {
      "text/plain": [
       "-7.541658709948586e-16"
      ]
     },
     "execution_count": 63,
     "metadata": {},
     "output_type": "execute_result"
    }
   ],
   "source": [
    "reg.intercept_"
   ]
  },
  {
   "cell_type": "code",
   "execution_count": 97,
   "metadata": {},
   "outputs": [
    {
     "data": {
      "text/plain": [
       "array([[29.94160339]])"
      ]
     },
     "execution_count": 97,
     "metadata": {},
     "output_type": "execute_result"
    }
   ],
   "source": [
    "reg.predict([sSam.iloc[2]])"
   ]
  },
  {
   "cell_type": "code",
   "execution_count": 87,
   "metadata": {},
   "outputs": [
    {
     "data": {
      "text/html": [
       "<div>\n",
       "<style scoped>\n",
       "    .dataframe tbody tr th:only-of-type {\n",
       "        vertical-align: middle;\n",
       "    }\n",
       "\n",
       "    .dataframe tbody tr th {\n",
       "        vertical-align: top;\n",
       "    }\n",
       "\n",
       "    .dataframe thead th {\n",
       "        text-align: right;\n",
       "    }\n",
       "</style>\n",
       "<table border=\"1\" class=\"dataframe\">\n",
       "  <thead>\n",
       "    <tr style=\"text-align: right;\">\n",
       "      <th></th>\n",
       "      <th>cylinders</th>\n",
       "      <th>displacement</th>\n",
       "      <th>horsepower</th>\n",
       "      <th>weight</th>\n",
       "      <th>acceleration</th>\n",
       "    </tr>\n",
       "  </thead>\n",
       "  <tbody>\n",
       "    <tr>\n",
       "      <th>0</th>\n",
       "      <td>-0.855244</td>\n",
       "      <td>-0.943954</td>\n",
       "      <td>-0.320694</td>\n",
       "      <td>-1.095157</td>\n",
       "      <td>1.280750</td>\n",
       "    </tr>\n",
       "    <tr>\n",
       "      <th>1</th>\n",
       "      <td>0.320532</td>\n",
       "      <td>-0.243847</td>\n",
       "      <td>-0.216246</td>\n",
       "      <td>0.012488</td>\n",
       "      <td>-0.314789</td>\n",
       "    </tr>\n",
       "    <tr>\n",
       "      <th>2</th>\n",
       "      <td>-0.855244</td>\n",
       "      <td>-0.915182</td>\n",
       "      <td>-0.947387</td>\n",
       "      <td>-0.972348</td>\n",
       "      <td>0.990652</td>\n",
       "    </tr>\n",
       "  </tbody>\n",
       "</table>\n",
       "</div>"
      ],
      "text/plain": [
       "   cylinders  displacement  horsepower    weight  acceleration\n",
       "0  -0.855244     -0.943954   -0.320694 -1.095157      1.280750\n",
       "1   0.320532     -0.243847   -0.216246  0.012488     -0.314789\n",
       "2  -0.855244     -0.915182   -0.947387 -0.972348      0.990652"
      ]
     },
     "execution_count": 87,
     "metadata": {},
     "output_type": "execute_result"
    }
   ],
   "source": [
    "sSam"
   ]
  },
  {
   "cell_type": "code",
   "execution_count": 88,
   "metadata": {},
   "outputs": [
    {
     "data": {
      "text/plain": [
       "0.7391533967322892"
      ]
     },
     "execution_count": 88,
     "metadata": {},
     "output_type": "execute_result"
    }
   ],
   "source": [
    "-7.541658709948586e-16+(-0.855244*-0.08243141)+(-0.943954*-0.00215268)+(-0.320694*-0.23447457)+(-1.095157*-0.56063785)+(1.280750*-0.01761363)"
   ]
  },
  {
   "cell_type": "code",
   "execution_count": 94,
   "metadata": {},
   "outputs": [
    {
     "data": {
      "text/plain": [
       "29.2917842177609"
      ]
     },
     "execution_count": 94,
     "metadata": {},
     "output_type": "execute_result"
    }
   ],
   "source": [
    "0.7391533967322892 * data['mpg'].std() + data['mpg'].mean()"
   ]
  }
 ],
 "metadata": {
  "kernelspec": {
   "display_name": "Python 3",
   "language": "python",
   "name": "python3"
  },
  "language_info": {
   "codemirror_mode": {
    "name": "ipython",
    "version": 3
   },
   "file_extension": ".py",
   "mimetype": "text/x-python",
   "name": "python",
   "nbconvert_exporter": "python",
   "pygments_lexer": "ipython3",
   "version": "3.6.5"
  }
 },
 "nbformat": 4,
 "nbformat_minor": 2
}
