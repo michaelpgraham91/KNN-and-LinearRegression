{
 "cells": [
  {
   "cell_type": "code",
   "execution_count": 18,
   "metadata": {},
   "outputs": [
    {
     "data": {
      "text/html": [
       "<div>\n",
       "<style scoped>\n",
       "    .dataframe tbody tr th:only-of-type {\n",
       "        vertical-align: middle;\n",
       "    }\n",
       "\n",
       "    .dataframe tbody tr th {\n",
       "        vertical-align: top;\n",
       "    }\n",
       "\n",
       "    .dataframe thead th {\n",
       "        text-align: right;\n",
       "    }\n",
       "</style>\n",
       "<table border=\"1\" class=\"dataframe\">\n",
       "  <thead>\n",
       "    <tr style=\"text-align: right;\">\n",
       "      <th></th>\n",
       "      <th>A</th>\n",
       "      <th>B</th>\n",
       "      <th>C</th>\n",
       "      <th>D</th>\n",
       "    </tr>\n",
       "  </thead>\n",
       "  <tbody>\n",
       "    <tr>\n",
       "      <th>2018-12-02</th>\n",
       "      <td>1.162447</td>\n",
       "      <td>-0.532449</td>\n",
       "      <td>0.545918</td>\n",
       "      <td>0.379942</td>\n",
       "    </tr>\n",
       "    <tr>\n",
       "      <th>2018-12-01</th>\n",
       "      <td>-0.175550</td>\n",
       "      <td>-1.082291</td>\n",
       "      <td>-0.538473</td>\n",
       "      <td>-0.169999</td>\n",
       "    </tr>\n",
       "    <tr>\n",
       "      <th>2018-11-30</th>\n",
       "      <td>0.398996</td>\n",
       "      <td>0.395324</td>\n",
       "      <td>0.369794</td>\n",
       "      <td>1.330243</td>\n",
       "    </tr>\n",
       "    <tr>\n",
       "      <th>2018-11-29</th>\n",
       "      <td>-2.296497</td>\n",
       "      <td>-0.294127</td>\n",
       "      <td>-2.583249</td>\n",
       "      <td>-0.327147</td>\n",
       "    </tr>\n",
       "    <tr>\n",
       "      <th>2018-11-28</th>\n",
       "      <td>-1.691140</td>\n",
       "      <td>-0.053890</td>\n",
       "      <td>0.734314</td>\n",
       "      <td>0.458120</td>\n",
       "    </tr>\n",
       "    <tr>\n",
       "      <th>2018-11-27</th>\n",
       "      <td>1.447663</td>\n",
       "      <td>-0.814714</td>\n",
       "      <td>-0.107561</td>\n",
       "      <td>1.541683</td>\n",
       "    </tr>\n",
       "  </tbody>\n",
       "</table>\n",
       "</div>"
      ],
      "text/plain": [
       "                   A         B         C         D\n",
       "2018-12-02  1.162447 -0.532449  0.545918  0.379942\n",
       "2018-12-01 -0.175550 -1.082291 -0.538473 -0.169999\n",
       "2018-11-30  0.398996  0.395324  0.369794  1.330243\n",
       "2018-11-29 -2.296497 -0.294127 -2.583249 -0.327147\n",
       "2018-11-28 -1.691140 -0.053890  0.734314  0.458120\n",
       "2018-11-27  1.447663 -0.814714 -0.107561  1.541683"
      ]
     },
     "execution_count": 18,
     "metadata": {},
     "output_type": "execute_result"
    }
   ],
   "source": [
    "import pandas as pd\n",
    "import numpy as np\n",
    "import matplotlib.pyplot as plt\n",
    "\n",
    "s = pd.Series([1,2,3,4,np.nan,7,8])\n",
    "\n",
    "dates = pd.date_range('20181127', periods=6)\n",
    "\n",
    "df = pd.DataFrame(np.random.randn(6,4), index=dates, columns=list('ABCD'))\n",
    "\n",
    "df.sort_index(axis=0, ascending=False)"
   ]
  }
 ],
 "metadata": {
  "kernelspec": {
   "display_name": "Python 3",
   "language": "python",
   "name": "python3"
  },
  "language_info": {
   "codemirror_mode": {
    "name": "ipython",
    "version": 3
   },
   "file_extension": ".py",
   "mimetype": "text/x-python",
   "name": "python",
   "nbconvert_exporter": "python",
   "pygments_lexer": "ipython3",
   "version": "3.6.7"
  }
 },
 "nbformat": 4,
 "nbformat_minor": 2
}
