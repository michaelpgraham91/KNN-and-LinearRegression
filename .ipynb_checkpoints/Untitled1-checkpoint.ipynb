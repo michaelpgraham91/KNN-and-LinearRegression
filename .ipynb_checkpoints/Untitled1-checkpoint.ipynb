{
 "cells": [
  {
   "cell_type": "code",
   "execution_count": null,
   "metadata": {},
   "outputs": [],
   "source": [
    "import pandas as pd\n",
    "import numpy as np\n",
    "import warnings\n",
    "warnings.filterwarnings('ignore')\n",
    "pd.set_option('max_rows', 200)\n",
    "\n",
    "# Columns from given data, includes class\n",
    "cols = ['sepal length', 'sepal width', 'petal length', 'petal width', 'class']\n",
    "# Columns with only numeric values\n",
    "numCols = ['sepal length', 'sepal width', 'petal length', 'petal width']\n",
    "# Create DataFrame with values read from txt file\n",
    "data = pd.DataFrame(pd.read_csv('iris.txt', header=None, names=cols))\n",
    "\n",
    "# Testing sample data\n",
    "samples = pd.DataFrame({\n",
    "    'sepal length': [4.9, 4.9, 4.9],\n",
    "    'sepal width': [3.0, 2.4, 2.5],\n",
    "    'petal length': [1.4, 3.3, 4.5],\n",
    "    'petal width': [0.2, 1.0, 1.7]    \n",
    "})"
   ]
  }
 ],
 "metadata": {
  "kernelspec": {
   "display_name": "Python 3",
   "language": "python",
   "name": "python3"
  },
  "language_info": {
   "codemirror_mode": {
    "name": "ipython",
    "version": 3
   },
   "file_extension": ".py",
   "mimetype": "text/x-python",
   "name": "python",
   "nbconvert_exporter": "python",
   "pygments_lexer": "ipython3",
   "version": "3.6.5"
  }
 },
 "nbformat": 4,
 "nbformat_minor": 2
}
